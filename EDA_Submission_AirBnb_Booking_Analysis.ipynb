{
  "nbformat": 4,
  "nbformat_minor": 0,
  "metadata": {
    "colab": {
      "private_outputs": true,
      "provenance": [],
      "collapsed_sections": [
        "vncDsAP0Gaoa",
        "FJNUwmbgGyua",
        "w6K7xa23Elo4",
        "yQaldy8SH6Dl",
        "PH-0ReGfmX4f",
        "mDgbUHAGgjLW",
        "O_i_v8NEhb9l",
        "HhfV-JJviCcP",
        "Y3lxredqlCYt",
        "3RnN4peoiCZX",
        "x71ZqKXriCWQ",
        "7hBIi_osiCS2",
        "JlHwYmJAmNHm",
        "35m5QtbWiB9F",
        "PoPl-ycgm1ru",
        "H0kj-8xxnORC",
        "nA9Y7ga8ng1Z",
        "PBTbrJXOngz2",
        "u3PMJOP6ngxN",
        "dauF4eBmngu3",
        "bKJF3rekwFvQ",
        "MSa1f5Uengrz",
        "GF8Ens_Soomf",
        "0wOQAZs5pc--",
        "K5QZ13OEpz2H",
        "lQ7QKXXCp7Bj",
        "448CDAPjqfQr",
        "KSlN3yHqYklG",
        "t6dVpIINYklI",
        "ijmpgYnKYklI",
        "-JiQyfWJYklI",
        "EM7whBJCYoAo",
        "fge-S5ZAYoAp",
        "85gYPyotYoAp",
        "RoGjAbkUYoAp",
        "4Of9eVA-YrdM",
        "iky9q4vBYrdO",
        "F6T5p64dYrdO",
        "y-Ehk30pYrdP",
        "bamQiAODYuh1",
        "QHF8YVU7Yuh3",
        "GwzvFGzlYuh3",
        "qYpmQ266Yuh3",
        "OH-pJp9IphqM",
        "bbFf2-_FphqN",
        "_ouA3fa0phqN",
        "Seke61FWphqN",
        "PIIx-8_IphqN",
        "t27r6nlMphqO",
        "r2jJGEOYphqO",
        "b0JNsNcRphqO",
        "BZR9WyysphqO",
        "jj7wYXLtphqO",
        "eZrbJ2SmphqO",
        "rFu4xreNphqO",
        "YJ55k-q6phqO",
        "gCFgpxoyphqP",
        "OVtJsKN_phqQ",
        "lssrdh5qphqQ",
        "U2RJ9gkRphqQ",
        "1M8mcRywphqQ",
        "tgIPom80phqQ",
        "JMzcOPDDphqR",
        "x-EpHcCOp1ci",
        "X_VqEhTip1ck",
        "8zGJKyg5p1ck",
        "PVzmfK_Ep1ck",
        "n3dbpmDWp1ck",
        "ylSl6qgtp1ck",
        "ZWILFDl5p1ck",
        "M7G43BXep1ck",
        "Ag9LCva-p1cl",
        "E6MkPsBcp1cl",
        "2cELzS2fp1cl",
        "3MPXvC8up1cl",
        "NC_X3p0fY2L0",
        "UV0SzAkaZNRQ",
        "YPEH6qLeZNRQ",
        "q29F0dvdveiT",
        "EXh0U9oCveiU",
        "22aHeOlLveiV",
        "JcMwzZxoAimU",
        "8G2x9gOozGDZ",
        "gCX9965dhzqZ",
        "gIfDvo9L0UH2"
      ],
      "include_colab_link": true
    },
    "kernelspec": {
      "name": "python3",
      "display_name": "Python 3"
    },
    "language_info": {
      "name": "python"
    }
  },
  "cells": [
    {
      "cell_type": "markdown",
      "metadata": {
        "id": "view-in-github",
        "colab_type": "text"
      },
      "source": [
        "<a href=\"https://colab.research.google.com/github/ayushmuhana/testrepo/blob/main/EDA_Submission_AirBnb_Booking_Analysis.ipynb\" target=\"_parent\"><img src=\"https://colab.research.google.com/assets/colab-badge.svg\" alt=\"Open In Colab\"/></a>"
      ]
    },
    {
      "cell_type": "markdown",
      "source": [
        "# **Project Name**    - AirBnb Booking Analysis\n",
        "\n"
      ],
      "metadata": {
        "id": "vncDsAP0Gaoa"
      }
    },
    {
      "cell_type": "markdown",
      "source": [
        "##### **Project Type**    - Exploratory Data Analysis\n",
        "##### **Contribution**    - Individual"
      ],
      "metadata": {
        "id": "beRrZCGUAJYm"
      }
    },
    {
      "cell_type": "markdown",
      "source": [
        "# **Project Summary -**"
      ],
      "metadata": {
        "id": "FJNUwmbgGyua"
      }
    },
    {
      "cell_type": "markdown",
      "source": [
        "This is an Exploratory Data Analysis project where I am trying to understand a dataset and make visualizations to get inferences on business outcomes through these visualizations. This dataset in about Airbnb bookings in 2019 in New York. It has 48895 rows and 16 colomns. This colomns are id, name containing details of the listing; host_id, host_name containing details of the host; neighbourhood_group, neighbourhood, latitude, longitude containing location of the listings; and addional data about the listing like room_type, price, minimum_nights, number_of_reviews, reviews_per_month, last_review, availability_365; and one additional column calculated_host_listings showing number of listings with that host. My job is to understand the data, make a few visualization charts, make inferences from those charts and make hypothesis on how it affects the business model. For this I have loaded the dataset csv by mounting my google drive, cleaned and wrangled the data and made visualizations and charts using pandas, numpy, matplotlib, seaborn."
      ],
      "metadata": {
        "id": "F6v_1wHtG2nS"
      }
    },
    {
      "cell_type": "markdown",
      "source": [
        "# **GitHub Link -**"
      ],
      "metadata": {
        "id": "w6K7xa23Elo4"
      }
    },
    {
      "cell_type": "markdown",
      "source": [
        "https://github.com/ayushmuhana/testrepo/blob/f88c02786472d2990bd9ad72da46484d8a528a0c/EDA_Submission_Template.ipynb"
      ],
      "metadata": {
        "id": "h1o69JH3Eqqn"
      }
    },
    {
      "cell_type": "markdown",
      "source": [
        "# **Problem Statement**\n"
      ],
      "metadata": {
        "id": "yQaldy8SH6Dl"
      }
    },
    {
      "cell_type": "markdown",
      "source": [
        "My task is to understand the Airbnb dataset, make visualization charts, make inferences from those charts and make hypothesis on how it affects the business model."
      ],
      "metadata": {
        "id": "DpeJGUA3kjGy"
      }
    },
    {
      "cell_type": "markdown",
      "source": [
        "#### **Define Your Business Objective?**"
      ],
      "metadata": {
        "id": "PH-0ReGfmX4f"
      }
    },
    {
      "cell_type": "markdown",
      "source": [
        "To understand how different variables affect bookings of airbnb listings and to maximize profitability by suggesting ideas to enhance customer experience."
      ],
      "metadata": {
        "id": "PhDvGCAqmjP1"
      }
    },
    {
      "cell_type": "markdown",
      "source": [
        "# **General Guidelines** : -  "
      ],
      "metadata": {
        "id": "mDgbUHAGgjLW"
      }
    },
    {
      "cell_type": "markdown",
      "source": [
        "1.   Well-structured, formatted, and commented code is required.\n",
        "2.   Exception Handling, Production Grade Code & Deployment Ready Code will be a plus. Those students will be awarded some additional credits.\n",
        "     \n",
        "     The additional credits will have advantages over other students during Star Student selection.\n",
        "       \n",
        "             [ Note: - Deployment Ready Code is defined as, the whole .ipynb notebook should be executable in one go\n",
        "                       without a single error logged. ]\n",
        "\n",
        "3.   Each and every logic should have proper comments.\n",
        "4. You may add as many number of charts you want. Make Sure for each and every chart the following format should be answered.\n",
        "        \n",
        "\n",
        "```\n",
        "# Chart visualization code\n",
        "```\n",
        "            \n",
        "\n",
        "*   Why did you pick the specific chart?\n",
        "*   What is/are the insight(s) found from the chart?\n",
        "* Will the gained insights help creating a positive business impact?\n",
        "Are there any insights that lead to negative growth? Justify with specific reason.\n",
        "\n",
        "5. You have to create at least 20 logical & meaningful charts having important insights.\n",
        "\n",
        "\n",
        "[ Hints : - Do the Vizualization in  a structured way while following \"UBM\" Rule.\n",
        "\n",
        "U - Univariate Analysis,\n",
        "\n",
        "B - Bivariate Analysis (Numerical - Categorical, Numerical - Numerical, Categorical - Categorical)\n",
        "\n",
        "M - Multivariate Analysis\n",
        " ]\n",
        "\n",
        "\n",
        "\n"
      ],
      "metadata": {
        "id": "ZrxVaUj-hHfC"
      }
    },
    {
      "cell_type": "markdown",
      "source": [
        "# ***Let's Begin !***"
      ],
      "metadata": {
        "id": "O_i_v8NEhb9l"
      }
    },
    {
      "cell_type": "markdown",
      "source": [
        "## ***1. Know Your Data***"
      ],
      "metadata": {
        "id": "HhfV-JJviCcP"
      }
    },
    {
      "cell_type": "markdown",
      "source": [
        "### Import Libraries"
      ],
      "metadata": {
        "id": "Y3lxredqlCYt"
      }
    },
    {
      "cell_type": "code",
      "source": [
        "# Import Libraries\n",
        "import pandas as pd\n",
        "import numpy as np\n",
        "import matplotlib.pyplot as plt\n",
        "import seaborn as sns\n",
        "from google.colab import drive"
      ],
      "metadata": {
        "id": "M8Vqi-pPk-HR"
      },
      "execution_count": null,
      "outputs": []
    },
    {
      "cell_type": "markdown",
      "source": [
        "### Dataset Loading"
      ],
      "metadata": {
        "id": "3RnN4peoiCZX"
      }
    },
    {
      "cell_type": "code",
      "source": [
        "# Load Dataset\n",
        "drive.mount('/content/drive')\n",
        "df = pd.read_csv('/content/drive/My Drive/Airbnb NYC 2019.csv')"
      ],
      "metadata": {
        "id": "4CkvbW_SlZ_R"
      },
      "execution_count": null,
      "outputs": []
    },
    {
      "cell_type": "markdown",
      "source": [
        "### Dataset First View"
      ],
      "metadata": {
        "id": "x71ZqKXriCWQ"
      }
    },
    {
      "cell_type": "code",
      "source": [
        "# Dataset First Look\n",
        "df.head()"
      ],
      "metadata": {
        "id": "LWNFOSvLl09H"
      },
      "execution_count": null,
      "outputs": []
    },
    {
      "cell_type": "markdown",
      "source": [
        "### Dataset Rows & Columns count"
      ],
      "metadata": {
        "id": "7hBIi_osiCS2"
      }
    },
    {
      "cell_type": "code",
      "source": [
        "# Dataset Rows & Columns count\n",
        "rows, columns = df.shape\n",
        "print(f\"Rows: {rows}, Colums: {columns}\")"
      ],
      "metadata": {
        "id": "Kllu7SJgmLij"
      },
      "execution_count": null,
      "outputs": []
    },
    {
      "cell_type": "markdown",
      "source": [
        "### Dataset Information"
      ],
      "metadata": {
        "id": "JlHwYmJAmNHm"
      }
    },
    {
      "cell_type": "code",
      "source": [
        "# Dataset Info\n",
        "df.info()"
      ],
      "metadata": {
        "id": "e9hRXRi6meOf"
      },
      "execution_count": null,
      "outputs": []
    },
    {
      "cell_type": "markdown",
      "source": [
        "#### Duplicate Values"
      ],
      "metadata": {
        "id": "35m5QtbWiB9F"
      }
    },
    {
      "cell_type": "code",
      "source": [
        "# Dataset Duplicate Value Count\n",
        "print(f\"number of duplicate rows in dataset: {df.duplicated().sum()}\")"
      ],
      "metadata": {
        "id": "1sLdpKYkmox0"
      },
      "execution_count": null,
      "outputs": []
    },
    {
      "cell_type": "markdown",
      "source": [
        "#### Missing Values/Null Values"
      ],
      "metadata": {
        "id": "PoPl-ycgm1ru"
      }
    },
    {
      "cell_type": "code",
      "source": [
        "# Missing Values/Null Values Count\n",
        "df.isna().sum()"
      ],
      "metadata": {
        "id": "GgHWkxvamxVg"
      },
      "execution_count": null,
      "outputs": []
    },
    {
      "cell_type": "code",
      "source": [
        "# finding reason for high missing values in last_review and reviews_per_month column\n",
        "selected_columns = [\"id\", \"host_name\", \"neighbourhood\", \"minimum_nights\", \"number_of_reviews\", \"last_review\", \"reviews_per_month\", \"calculated_host_listings_count\", \"availability_365\"]\n",
        "\n",
        "filtered_df = df[df[\"last_review\"].isna()][selected_columns]\n",
        "filtered_df"
      ],
      "metadata": {
        "id": "d0-aUPHp0QKQ"
      },
      "execution_count": null,
      "outputs": []
    },
    {
      "cell_type": "markdown",
      "source": [
        "From the above result, we can say that the reason for missing values in last_review and reviews_per_month is because there have been 0 num_of_reviews for these listings."
      ],
      "metadata": {
        "id": "oxnZAaCG2Dis"
      }
    },
    {
      "cell_type": "code",
      "source": [
        "# Visualizing the missing values\n",
        "df.isna().sum().plot(kind = 'barh', ylabel = \"Columns\", xlabel = \"Values Missing\")\n",
        "plt.show()"
      ],
      "metadata": {
        "id": "3q5wnI3om9sJ"
      },
      "execution_count": null,
      "outputs": []
    },
    {
      "cell_type": "markdown",
      "source": [
        "### What did you know about your dataset?"
      ],
      "metadata": {
        "id": "H0kj-8xxnORC"
      }
    },
    {
      "cell_type": "markdown",
      "source": [
        "*   This dataset has 48895 rows and 16 columns.\n",
        "*   There are no duplicate values in the dataset which means all the rows are distinct.\n",
        "*   There are very few missing values in name and host_name columns, which don't have any large significance on analysis.\n",
        "*   Almost 1/4th of the data in last_review and reviews_per_month is missing, where there have been no reviews, which could affect some analysis relating to reviews.\n",
        "*   last_review is a date column which is in a string format.\n",
        "\n",
        "\n"
      ],
      "metadata": {
        "id": "gfoNAAC-nUe_"
      }
    },
    {
      "cell_type": "markdown",
      "source": [
        "## ***2. Understanding Your Variables***"
      ],
      "metadata": {
        "id": "nA9Y7ga8ng1Z"
      }
    },
    {
      "cell_type": "code",
      "source": [
        "# Dataset Columns\n",
        "df.columns"
      ],
      "metadata": {
        "id": "j7xfkqrt5Ag5"
      },
      "execution_count": null,
      "outputs": []
    },
    {
      "cell_type": "code",
      "source": [
        "# Dataset Describe\n",
        "df.describe()"
      ],
      "metadata": {
        "id": "DnOaZdaE5Q5t"
      },
      "execution_count": null,
      "outputs": []
    },
    {
      "cell_type": "markdown",
      "source": [
        "### Variables Description"
      ],
      "metadata": {
        "id": "PBTbrJXOngz2"
      }
    },
    {
      "cell_type": "markdown",
      "source": [
        "id: This column contains unique identifiers for each entry in the dataset. It is of integer data type.\n",
        "\n",
        "name: This column contains the name or title of the accommodation listing. It is of string values.\n",
        "\n",
        "host_id: This column contains unique identifiers for the hosts of the accommodation listings. It is of integer data type.\n",
        "\n",
        "host_name: This column contains the names of the hosts. It is of string data type.\n",
        "\n",
        "neighbourhood_group: This column contains the name of the new york borough where the accommodation is located. It is of string data type.\n",
        "\n",
        "neighbourhood: This column contains the name of the specific neighborhood where the accommodation is located. It is of string data type.\n",
        "\n",
        "latitude: This column contains the latitude coordinates of the accommodation's location. It is of float data type.\n",
        "\n",
        "longitude: This column contains the longitude coordinates of the accommodation's location. It is of float data type.\n",
        "\n",
        "room_type: This column contains the type of room or accommodation offered (e.g., 'Private room,' 'Entire home/apt'). It is of string data type.\n",
        "\n",
        "price: This column contains the price of the accommodation. It is of integer data type.\n",
        "\n",
        "minimum_nights: This column contains the minimum number of nights required for booking the accommodation. It is of integer data type.\n",
        "\n",
        "number_of_reviews: This column contains the number of reviews received for the accommodation. It is of integer data type.\n",
        "\n",
        "last_review: This column contains the date of the last review for the accommodation. It is of string data type.\n",
        "\n",
        "reviews_per_month: This column contains the average number of reviews per month for the accommodation. It is of float data type.\n",
        "\n",
        "calculated_host_listings_count: This column contains the count of listings managed by the host. It is of integer data type.\n",
        "\n",
        "availability_365: This column contains the number of available days for booking the accommodation within a year (365 days). It is of integer data type."
      ],
      "metadata": {
        "id": "aJV4KIxSnxay"
      }
    },
    {
      "cell_type": "markdown",
      "source": [
        "### Check Unique Values for each variable."
      ],
      "metadata": {
        "id": "u3PMJOP6ngxN"
      }
    },
    {
      "cell_type": "code",
      "source": [
        "# Check Unique Values for each variable.\n",
        "unique_values = {}\n",
        "for col in df.columns:\n",
        "  unique_values[col] = df[col].nunique()\n",
        "pd.Series(unique_values)"
      ],
      "metadata": {
        "id": "zms12Yq5n-jE"
      },
      "execution_count": null,
      "outputs": []
    },
    {
      "cell_type": "markdown",
      "source": [
        "## 3. ***Data Wrangling***"
      ],
      "metadata": {
        "id": "dauF4eBmngu3"
      }
    },
    {
      "cell_type": "markdown",
      "source": [
        "### Data Wrangling Code"
      ],
      "metadata": {
        "id": "bKJF3rekwFvQ"
      }
    },
    {
      "cell_type": "code",
      "source": [
        "# Write your code to make your dataset analysis ready.\n",
        "\n",
        "#replace missing values\n",
        "df[\"name\"].fillna(\"Unnamed Listing\", inplace = True)\n",
        "df[\"host_name\"].fillna(\"Unknown host\", inplace = True)\n",
        "\n",
        "#data transformation\n",
        "df[\"last_review\"] = pd.to_datetime(df[\"last_review\"])\n",
        "\n",
        "df.head()"
      ],
      "metadata": {
        "id": "wk-9a2fpoLcV"
      },
      "execution_count": null,
      "outputs": []
    },
    {
      "cell_type": "markdown",
      "source": [
        "### What all manipulations have you done and insights you found?"
      ],
      "metadata": {
        "id": "MSa1f5Uengrz"
      }
    },
    {
      "cell_type": "markdown",
      "source": [
        "*   Since there are no duplicate values, no action was required\n",
        "*   Changed all missing names and host names to \"unnamed listing\" and \"unknown host name\" for data consistency\n",
        "*   Changed the colomn \"last_review\" to a datetime column as the values it contains are dates. This would make it easier to work with this data where date comparision is required.\n",
        "*   Did NOT replace \"last_review\" and \"reviews_per_month\" column's missing values with anything as that would cause inaccuracy in data findings. These values are missing as there are no reviews for those listing and thus last review and avg review per month don't exist.\n",
        "\n",
        "\n",
        "\n",
        "\n",
        "\n"
      ],
      "metadata": {
        "id": "LbyXE7I1olp8"
      }
    },
    {
      "cell_type": "markdown",
      "source": [
        "## ***4. Data Vizualization, Storytelling & Experimenting with charts : Understand the relationships between variables***"
      ],
      "metadata": {
        "id": "GF8Ens_Soomf"
      }
    },
    {
      "cell_type": "markdown",
      "source": [
        "#### Chart - 1"
      ],
      "metadata": {
        "id": "0wOQAZs5pc--"
      }
    },
    {
      "cell_type": "code",
      "source": [
        "# Chart - 1 visualization code\n",
        "# price distribution per neighbourhood group chart\n",
        "\n",
        "plt.figure(figsize = (6,6))\n",
        "sns.set(style = \"whitegrid\")\n",
        "\n",
        "sns.boxplot(x = \"neighbourhood_group\", y = \"price\", data = df)\n",
        "\n",
        "plt.title(\"price distribution per neighbourhood group\")\n",
        "plt.xlabel(\"Neighbourhood Group\")\n",
        "plt.ylabel(\"Price\")\n",
        "plt.show()"
      ],
      "metadata": {
        "id": "7v_ESjsspbW7"
      },
      "execution_count": null,
      "outputs": []
    },
    {
      "cell_type": "markdown",
      "source": [
        "##### 1. Why did you pick the specific chart?"
      ],
      "metadata": {
        "id": "K5QZ13OEpz2H"
      }
    },
    {
      "cell_type": "markdown",
      "source": [
        "I wanted to show the price distribution per neighbourhood group. Box plot would best respresent how the prices are varied in different areas, also showing the outliers and giving us a better understanding."
      ],
      "metadata": {
        "id": "XESiWehPqBRc"
      }
    },
    {
      "cell_type": "markdown",
      "source": [
        "##### 2. What is/are the insight(s) found from the chart?"
      ],
      "metadata": {
        "id": "lQ7QKXXCp7Bj"
      }
    },
    {
      "cell_type": "markdown",
      "source": [
        "The insights that we can get here is that the price of rooms in the airbnb dataset is the highest in Manhatten while the lowest in Bronx."
      ],
      "metadata": {
        "id": "C_j1G7yiqdRP"
      }
    },
    {
      "cell_type": "markdown",
      "source": [
        "##### 3. Will the gained insights help creating a positive business impact?\n",
        "Are there any insights that lead to negative growth? Justify with specific reason."
      ],
      "metadata": {
        "id": "448CDAPjqfQr"
      }
    },
    {
      "cell_type": "markdown",
      "source": [
        "Yes, this can. Now that we know that Bronx has cheaper rooms when compared to Manhatten, we can offer these suggestions to people looking to visit Manhatten as they are pretty close. This could increase booking of people looking for rooms in Manhatten but are budget constrained."
      ],
      "metadata": {
        "id": "3cspy4FjqxJW"
      }
    },
    {
      "cell_type": "markdown",
      "source": [
        "#### Chart - 2"
      ],
      "metadata": {
        "id": "KSlN3yHqYklG"
      }
    },
    {
      "cell_type": "code",
      "source": [
        "# Chart - 2 visualization code\n",
        "# Count of room type per neighbourhood_group\n",
        "count_per_room = df.groupby([\"room_type\", \"neighbourhood_group\"]).size().reset_index(name=\"Count\")\n",
        "plt.figure(figsize = (6,6))\n",
        "\n",
        "sns.barplot(x = \"neighbourhood_group\", y = \"Count\", hue = \"room_type\", palette = \"colorblind\", data = count_per_room)\n",
        "\n",
        "plt.title(\"Number of rooms per room type in each neighbourhood group\")\n",
        "plt.xlabel(\"Neighbourhood Group\")\n",
        "plt.ylabel(\"Count per Neighbourhood\")\n",
        "plt.show()"
      ],
      "metadata": {
        "id": "R4YgtaqtYklH"
      },
      "execution_count": null,
      "outputs": []
    },
    {
      "cell_type": "markdown",
      "source": [
        "##### 1. Why did you pick the specific chart?"
      ],
      "metadata": {
        "id": "t6dVpIINYklI"
      }
    },
    {
      "cell_type": "markdown",
      "source": [
        "I chose this chart in particual as bar graph is easier to show multivariate categorical data. I had to divide each neighbourhood group and show the number of rooms per room type in each neighbourhood group. This gives a clear idea of how they are distributed."
      ],
      "metadata": {
        "id": "5aaW0BYyYklI"
      }
    },
    {
      "cell_type": "markdown",
      "source": [
        "##### 2. What is/are the insight(s) found from the chart?"
      ],
      "metadata": {
        "id": "ijmpgYnKYklI"
      }
    },
    {
      "cell_type": "markdown",
      "source": [
        "When we see this particular chart, we get an idea that number of entire apt is the highest for manhatten while all the other areas have more number of private room when compared to entire apt. Also, there are not a lot of shared rooms listed on airbnb for this partiular area."
      ],
      "metadata": {
        "id": "PSx9atu2YklI"
      }
    },
    {
      "cell_type": "markdown",
      "source": [
        "##### 3. Will the gained insights help creating a positive business impact?\n",
        "Are there any insights that lead to negative growth? Justify with specific reason."
      ],
      "metadata": {
        "id": "-JiQyfWJYklI"
      }
    },
    {
      "cell_type": "markdown",
      "source": [
        "Yes, we have an understanding that while the number of entire home/apt and private room is high in manhatten and brooklyn, there are very few listings from other areas. We can come up with incentives for more hosts to enlist their apartments from these areas. Also, we can take steps to enlist more shared rooms as well."
      ],
      "metadata": {
        "id": "BcBbebzrYklV"
      }
    },
    {
      "cell_type": "markdown",
      "source": [
        "#### Chart - 3"
      ],
      "metadata": {
        "id": "EM7whBJCYoAo"
      }
    },
    {
      "cell_type": "code",
      "source": [
        "# Chart - 3 visualization code\n",
        "# average monthly reviews per room type per area\n",
        "\n",
        "avg_review = df.groupby([\"neighbourhood_group\", \"room_type\"])[\"reviews_per_month\"].mean().reset_index()\n",
        "\n",
        "sns.lineplot(x = \"neighbourhood_group\", y = \"reviews_per_month\", hue = \"room_type\", data = avg_review)\n",
        "\n",
        "plt.title(\"average monthly reviews per room type per neighbourhood group\")\n",
        "plt.xlabel(\"Neighbourhood Group\")\n",
        "plt.ylabel(\"Average Reviews per neighbourhood\")\n",
        "plt.show()"
      ],
      "metadata": {
        "id": "t6GMdE67YoAp"
      },
      "execution_count": null,
      "outputs": []
    },
    {
      "cell_type": "markdown",
      "source": [
        "##### 1. Why did you pick the specific chart?"
      ],
      "metadata": {
        "id": "fge-S5ZAYoAp"
      }
    },
    {
      "cell_type": "markdown",
      "source": [
        "In this chart, I have tried to show the average reviews per month each neighbourhood group has and how do they differ with each other. The reason I went with a line chart is because it shows the relation between 2 data points, in this case neighbourhood groups, and how they are related. It gives a clear picture of how reviews differ in each neighbourhood group."
      ],
      "metadata": {
        "id": "5dBItgRVYoAp"
      }
    },
    {
      "cell_type": "markdown",
      "source": [
        "##### 2. What is/are the insight(s) found from the chart?"
      ],
      "metadata": {
        "id": "85gYPyotYoAp"
      }
    },
    {
      "cell_type": "markdown",
      "source": [
        "From the above chart we can understand that bronx has high entire home/apt review while mahattan has highest for shared rooms and queens for private rooms. This can help us understand the interest of customers in those areas and how they respond to it."
      ],
      "metadata": {
        "id": "4jstXR6OYoAp"
      }
    },
    {
      "cell_type": "markdown",
      "source": [
        "##### 3. Will the gained insights help creating a positive business impact?\n",
        "Are there any insights that lead to negative growth? Justify with specific reason."
      ],
      "metadata": {
        "id": "RoGjAbkUYoAp"
      }
    },
    {
      "cell_type": "markdown",
      "source": [
        "These insights can help a business understand how their customers behave in a particular area and they can take measures to promote business in that way. For example, customers in Manhattan prefer shared rooms so they can increase the number of shared rooms and incentivize customers to go for them."
      ],
      "metadata": {
        "id": "zfJ8IqMcYoAp"
      }
    },
    {
      "cell_type": "markdown",
      "source": [
        "#### Chart - 4"
      ],
      "metadata": {
        "id": "4Of9eVA-YrdM"
      }
    },
    {
      "cell_type": "code",
      "source": [
        "# Chart - 4 visualization code\n",
        "df[\"Year\"] = df[\"last_review\"].dt.to_period(\"Y\")\n",
        "last_review_by_year = df[\"Year\"].value_counts().sort_index()\n",
        "\n",
        "plt.figure(figsize = (6,6))\n",
        "ax = last_review_by_year.plot(kind = \"bar\", color = \"skyblue\")\n",
        "plt.title(\"Number of Listings with Last Reviews by Year\")\n",
        "plt.xlabel(\"Year\")\n",
        "plt.ylabel(\"Number of listings\")\n",
        "\n",
        "for p in ax.patches:\n",
        "  ax.annotate(str(p.get_height()), (p.get_x() + p.get_width() / 2, p.get_height()), ha = \"center\", va = \"bottom\")\n",
        "\n",
        "plt.show()"
      ],
      "metadata": {
        "id": "irlUoxc8YrdO"
      },
      "execution_count": null,
      "outputs": []
    },
    {
      "cell_type": "markdown",
      "source": [
        "##### 1. Why did you pick the specific chart?"
      ],
      "metadata": {
        "id": "iky9q4vBYrdO"
      }
    },
    {
      "cell_type": "markdown",
      "source": [
        "Here, I wanted to show the number of listings that have gotten their last review by what year they got it. Since this is a categorical data where i wanted to show value counts per category, bar chart was perfect."
      ],
      "metadata": {
        "id": "aJRCwT6DYrdO"
      }
    },
    {
      "cell_type": "markdown",
      "source": [
        "##### 2. What is/are the insight(s) found from the chart?"
      ],
      "metadata": {
        "id": "F6T5p64dYrdO"
      }
    },
    {
      "cell_type": "markdown",
      "source": [
        "Through this chart, we can get an understanding of how many listings are up to date with reviews. This dataset contains 48895 listings but out of which 25209 listings have their last reviews in the current year."
      ],
      "metadata": {
        "id": "Xx8WAJvtYrdO"
      }
    },
    {
      "cell_type": "markdown",
      "source": [
        "##### 3. Will the gained insights help creating a positive business impact?\n",
        "Are there any insights that lead to negative growth? Justify with specific reason."
      ],
      "metadata": {
        "id": "y-Ehk30pYrdP"
      }
    },
    {
      "cell_type": "markdown",
      "source": [
        "This chart can give us a very crucial input. Firstly we understand the number of listings that are not up to date with their reviews which is almost half of the total. This chart helps the business owner to understand the number of lisitings that might have something to be worked upon."
      ],
      "metadata": {
        "id": "jLNxxz7MYrdP"
      }
    },
    {
      "cell_type": "markdown",
      "source": [
        "#### Chart - 5"
      ],
      "metadata": {
        "id": "bamQiAODYuh1"
      }
    },
    {
      "cell_type": "code",
      "source": [
        "# Chart - 5 visualization code\n",
        "# comparision between price and review_per_month for each neighbourhood_group\n",
        "sns.scatterplot(x = \"price\", y = \"number_of_reviews\", hue = \"neighbourhood_group\", data = df)\n",
        "plt.title(\"Comparision between price and number of review\")\n",
        "plt.xlabel(\"Price\")\n",
        "plt.ylabel(\"Number of Reviews\")\n",
        "\n",
        "plt.show()"
      ],
      "metadata": {
        "id": "TIJwrbroYuh3"
      },
      "execution_count": null,
      "outputs": []
    },
    {
      "cell_type": "markdown",
      "source": [
        "##### 1. Why did you pick the specific chart?"
      ],
      "metadata": {
        "id": "QHF8YVU7Yuh3"
      }
    },
    {
      "cell_type": "markdown",
      "source": [
        "Here I am trying to show how price affects the number of reviews. I used a scatter plot as it shows the best visual depiction between the two variables. It is easier to identify any outliers that are present as well."
      ],
      "metadata": {
        "id": "dcxuIMRPYuh3"
      }
    },
    {
      "cell_type": "markdown",
      "source": [
        "##### 2. What is/are the insight(s) found from the chart?"
      ],
      "metadata": {
        "id": "GwzvFGzlYuh3"
      }
    },
    {
      "cell_type": "markdown",
      "source": [
        "With this chart we can get an understanding that while there is not much correlation between price and number of reviews in the cheaper listings, it does increase as the price increases. The higher the price, the lesser the number of reviews."
      ],
      "metadata": {
        "id": "uyqkiB8YYuh3"
      }
    },
    {
      "cell_type": "markdown",
      "source": [
        "##### 3. Will the gained insights help creating a positive business impact?\n",
        "Are there any insights that lead to negative growth? Justify with specific reason."
      ],
      "metadata": {
        "id": "qYpmQ266Yuh3"
      }
    },
    {
      "cell_type": "markdown",
      "source": [
        "While there is no direct business impact through this chart, it can be used to get an inference on how prices affect number of reviews. The expensive listings have lesser reviews and this could affect the business, so the hosts can get an idea on where to work."
      ],
      "metadata": {
        "id": "_WtzZ_hCYuh4"
      }
    },
    {
      "cell_type": "markdown",
      "source": [
        "#### Chart - 6"
      ],
      "metadata": {
        "id": "OH-pJp9IphqM"
      }
    },
    {
      "cell_type": "code",
      "source": [
        "# Chart - 6 visualization code\n",
        "#histogram of price distribution\n",
        "plt.figure(figsize=(10,6))\n",
        "\n",
        "bins = list(range(0,2001,100)) + [2000]\n",
        "sns.histplot(df[\"price\"], bins = bins, edgecolor = \"black\")\n",
        "\n",
        "plt.title(\"Price Distribution Histogram Chart\")\n",
        "plt.xlabel(\"Price\")\n",
        "plt.ylabel(\"Number of Listings\")\n",
        "\n",
        "plt.show()"
      ],
      "metadata": {
        "id": "kuRf4wtuphqN"
      },
      "execution_count": null,
      "outputs": []
    },
    {
      "cell_type": "markdown",
      "source": [
        "##### 1. Why did you pick the specific chart?"
      ],
      "metadata": {
        "id": "bbFf2-_FphqN"
      }
    },
    {
      "cell_type": "markdown",
      "source": [
        "I wanted to show how the listings are distributed on the basis of price. Histograms allowed me to categorize price range in different bins which made it easier to show the data."
      ],
      "metadata": {
        "id": "loh7H2nzphqN"
      }
    },
    {
      "cell_type": "markdown",
      "source": [
        "##### 2. What is/are the insight(s) found from the chart?"
      ],
      "metadata": {
        "id": "_ouA3fa0phqN"
      }
    },
    {
      "cell_type": "markdown",
      "source": [
        "The majority of listings in the Airbnb dataset are ranged within 2000 dollars while there are very few high class listings."
      ],
      "metadata": {
        "id": "VECbqPI7phqN"
      }
    },
    {
      "cell_type": "markdown",
      "source": [
        "##### 3. Will the gained insights help creating a positive business impact?\n",
        "Are there any insights that lead to negative growth? Justify with specific reason."
      ],
      "metadata": {
        "id": "Seke61FWphqN"
      }
    },
    {
      "cell_type": "markdown",
      "source": [
        "It can, depending on the affordability of consumers. Manhattan has a lot of high paying customers and they usually go for rooms that are better in class, which is usually higher in price. There can be more focus on getting them to list in Airbnb."
      ],
      "metadata": {
        "id": "DW4_bGpfphqN"
      }
    },
    {
      "cell_type": "markdown",
      "source": [
        "#### Chart - 7"
      ],
      "metadata": {
        "id": "PIIx-8_IphqN"
      }
    },
    {
      "cell_type": "code",
      "source": [
        "# Chart - 7 visualization code\n",
        "# pie chart of neighbourhood groups\n",
        "neighbour_count = df[\"neighbourhood_group\"].value_counts()\n",
        "colors = sns.color_palette(\"Set2\")\n",
        "\n",
        "plt.figure(figsize = (6,6))\n",
        "plt.pie(neighbour_count, labels = neighbour_count.index, autopct = \"%1.1f%%\", colors = colors)\n",
        "plt.title(\"Pie Chart of Listings Distributions in each neighbourhood\")\n",
        "\n",
        "plt.show()"
      ],
      "metadata": {
        "id": "lqAIGUfyphqO"
      },
      "execution_count": null,
      "outputs": []
    },
    {
      "cell_type": "markdown",
      "source": [
        "##### 1. Why did you pick the specific chart?"
      ],
      "metadata": {
        "id": "t27r6nlMphqO"
      }
    },
    {
      "cell_type": "markdown",
      "source": [
        "Pie chart is best used to show how a total figure is divided into categories. In this case, I tried to show how the listings are divided in each neighbourhood group."
      ],
      "metadata": {
        "id": "iv6ro40sphqO"
      }
    },
    {
      "cell_type": "markdown",
      "source": [
        "##### 2. What is/are the insight(s) found from the chart?"
      ],
      "metadata": {
        "id": "r2jJGEOYphqO"
      }
    },
    {
      "cell_type": "markdown",
      "source": [
        "We can see that majority of our listings are in Manhatten and Brooklyn, covering almost 85% of the dataset while staten island and bronx have very few listings going upto only 3%."
      ],
      "metadata": {
        "id": "Po6ZPi4hphqO"
      }
    },
    {
      "cell_type": "markdown",
      "source": [
        "##### 3. Will the gained insights help creating a positive business impact?\n",
        "Are there any insights that lead to negative growth? Justify with specific reason."
      ],
      "metadata": {
        "id": "b0JNsNcRphqO"
      }
    },
    {
      "cell_type": "markdown",
      "source": [
        "While there are high number of listings in Manhatten and Brooklyn, promoting areas like Bronx can help generate more revenue as it is very close to Manhatten and much cheaper."
      ],
      "metadata": {
        "id": "xvSq8iUTphqO"
      }
    },
    {
      "cell_type": "markdown",
      "source": [
        "#### Chart - 8"
      ],
      "metadata": {
        "id": "BZR9WyysphqO"
      }
    },
    {
      "cell_type": "code",
      "source": [
        "# Chart - 8 visualization code\n",
        "# Minimum Nights Histogram\n",
        "plt.figure(figsize = (10,6))\n",
        "\n",
        "bins = list(range(0,31))\n",
        "sns.histplot(df[\"minimum_nights\"], bins = bins, color = \"green\", edgecolor = \"black\")\n",
        "\n",
        "plt.title(\"Distribution of Min Nights per booking\")\n",
        "plt.xlabel(\"Min number of nights\")\n",
        "plt.ylabel(\"Number of Listings\")\n",
        "plt.xticks(bins)\n",
        "\n",
        "plt.show()"
      ],
      "metadata": {
        "id": "TdPTWpAVphqO"
      },
      "execution_count": null,
      "outputs": []
    },
    {
      "cell_type": "markdown",
      "source": [
        "##### 1. Why did you pick the specific chart?"
      ],
      "metadata": {
        "id": "jj7wYXLtphqO"
      }
    },
    {
      "cell_type": "markdown",
      "source": [
        "I wanted to show how the listings are distributed by min number of nights to be spent per booking. Histogram helps best give an idea of the distribution of data."
      ],
      "metadata": {
        "id": "Ob8u6rCTphqO"
      }
    },
    {
      "cell_type": "markdown",
      "source": [
        "##### 2. What is/are the insight(s) found from the chart?"
      ],
      "metadata": {
        "id": "eZrbJ2SmphqO"
      }
    },
    {
      "cell_type": "markdown",
      "source": [
        "Here we get an understanding of how many listings are present that require min nights to be spent. We see that most of the bookings require less than 5 nights to be spent but there is spike in the chart when it comes to booking above 30 days."
      ],
      "metadata": {
        "id": "mZtgC_hjphqO"
      }
    },
    {
      "cell_type": "markdown",
      "source": [
        "##### 3. Will the gained insights help creating a positive business impact?\n",
        "Are there any insights that lead to negative growth? Justify with specific reason."
      ],
      "metadata": {
        "id": "rFu4xreNphqO"
      }
    },
    {
      "cell_type": "markdown",
      "source": [
        "You get an understanding of how these bookings are effected by minimum nights spent. We can use this data to understand how business is affected by minimum nights. We can also use this chart to get a perspective on why there is spike in above 30 days min bookings."
      ],
      "metadata": {
        "id": "ey_0qi68phqO"
      }
    },
    {
      "cell_type": "markdown",
      "source": [
        "#### Chart - 9"
      ],
      "metadata": {
        "id": "YJ55k-q6phqO"
      }
    },
    {
      "cell_type": "code",
      "source": [
        "# Chart - 9 visualization code\n",
        "plt.figure(figsize = (10,6))\n",
        "\n",
        "sns.scatterplot(x = df[\"availability_365\"], y = df[\"price\"], alpha = 0.5, color = \"violet\")\n",
        "\n",
        "plt.grid(False)\n",
        "plt.title(\"Relationship between room availibility and price\")\n",
        "plt.xlabel(\"Room availability in 365 days\")\n",
        "plt.ylabel(\"Price\")\n",
        "\n",
        "plt.show()"
      ],
      "metadata": {
        "id": "B2aS4O1ophqO"
      },
      "execution_count": null,
      "outputs": []
    },
    {
      "cell_type": "markdown",
      "source": [
        "##### 1. Why did you pick the specific chart?"
      ],
      "metadata": {
        "id": "gCFgpxoyphqP"
      }
    },
    {
      "cell_type": "markdown",
      "source": [
        "I wanted to understand if the number of days of room availbility has an affect of price or not. Scatter plot is best used as it helps me understand how individual data points look on a larger map"
      ],
      "metadata": {
        "id": "TVxDimi2phqP"
      }
    },
    {
      "cell_type": "markdown",
      "source": [
        "##### 2. What is/are the insight(s) found from the chart?"
      ],
      "metadata": {
        "id": "OVtJsKN_phqQ"
      }
    },
    {
      "cell_type": "markdown",
      "source": [
        "We get an understanding that price and room availibility are no where correlated to each other. Data points are distributed equally throughout the chart."
      ],
      "metadata": {
        "id": "ngGi97qjphqQ"
      }
    },
    {
      "cell_type": "markdown",
      "source": [
        "##### 3. Will the gained insights help creating a positive business impact?\n",
        "Are there any insights that lead to negative growth? Justify with specific reason."
      ],
      "metadata": {
        "id": "lssrdh5qphqQ"
      }
    },
    {
      "cell_type": "markdown",
      "source": [
        "Currently availability level donot affect the price levels. But if you see in a logical sense, the availability of bookings show increase demand and hence have an increased price. Other factors have to be considered before making the call but this can be used as an business impact."
      ],
      "metadata": {
        "id": "tBpY5ekJphqQ"
      }
    },
    {
      "cell_type": "markdown",
      "source": [
        "#### Chart - 10"
      ],
      "metadata": {
        "id": "U2RJ9gkRphqQ"
      }
    },
    {
      "cell_type": "code",
      "source": [
        "# Chart - 10 visualization code\n",
        "top_10_hosts = df.groupby(\"host_name\")[\"number_of_reviews\"].sum().nlargest(10)\n",
        "\n",
        "plt.figure(figsize = (6,6))\n",
        "\n",
        "plt.barh(top_10_hosts.index, top_10_hosts, color = \"skyblue\")\n",
        "\n",
        "plt.title(\"Top 10 hosts (by reviews)\")\n",
        "plt.xlabel(\"Number of Reviews\")\n",
        "plt.ylabel(\"Host Names\")\n",
        "plt.gca().invert_yaxis()\n",
        "plt.grid(False)\n",
        "\n",
        "plt.show()"
      ],
      "metadata": {
        "id": "GM7a4YP4phqQ"
      },
      "execution_count": null,
      "outputs": []
    },
    {
      "cell_type": "markdown",
      "source": [
        "##### 1. Why did you pick the specific chart?"
      ],
      "metadata": {
        "id": "1M8mcRywphqQ"
      }
    },
    {
      "cell_type": "markdown",
      "source": [
        "We are trying to understand the best hosts who have the most number of reviews. This horizontal bar chart gives us a clear picture of who is the best and how better they are from the rest."
      ],
      "metadata": {
        "id": "8agQvks0phqQ"
      }
    },
    {
      "cell_type": "markdown",
      "source": [
        "##### 2. What is/are the insight(s) found from the chart?"
      ],
      "metadata": {
        "id": "tgIPom80phqQ"
      }
    },
    {
      "cell_type": "markdown",
      "source": [
        "Among the top hosts with the most reviews Michael and David are leading with over 10k and 8k reviews respectively, while almost everyone else have a little over 4k reviews."
      ],
      "metadata": {
        "id": "Qp13pnNzphqQ"
      }
    },
    {
      "cell_type": "markdown",
      "source": [
        "##### 3. Will the gained insights help creating a positive business impact?\n",
        "Are there any insights that lead to negative growth? Justify with specific reason."
      ],
      "metadata": {
        "id": "JMzcOPDDphqR"
      }
    },
    {
      "cell_type": "markdown",
      "source": [
        "This can help airbnb to understand the hosts who are really putting in the effort to make their listings the best. This can be used to award these hosts which might motivate others to do the same, having an overall impact in the business."
      ],
      "metadata": {
        "id": "R4Ka1PC2phqR"
      }
    },
    {
      "cell_type": "markdown",
      "source": [
        "#### Chart - 11 - Correlation Heatmap"
      ],
      "metadata": {
        "id": "NC_X3p0fY2L0"
      }
    },
    {
      "cell_type": "code",
      "source": [
        "# Correlation Heatmap visualization code\n",
        "corr_matrix = df.corr()\n",
        "\n",
        "plt.figure(figsize = (12,10))\n",
        "sns.heatmap(corr_matrix, annot =True, cmap = \"mako\", linewidths = .5)\n",
        "\n",
        "plt.title(\"Correlation Heatmap of the Airbnb 2019 Dataset\")\n",
        "\n",
        "plt.show()"
      ],
      "metadata": {
        "id": "xyC9zolEZNRQ"
      },
      "execution_count": null,
      "outputs": []
    },
    {
      "cell_type": "markdown",
      "source": [
        "##### 1. Why did you pick the specific chart?"
      ],
      "metadata": {
        "id": "UV0SzAkaZNRQ"
      }
    },
    {
      "cell_type": "markdown",
      "source": [
        "Correlation heatmap is best used when we want to understand the relation between all the numeric variables in a dataset. Here, we understand how all these numeric values are affected by one another."
      ],
      "metadata": {
        "id": "DVPuT8LYZNRQ"
      }
    },
    {
      "cell_type": "markdown",
      "source": [
        "##### 2. What is/are the insight(s) found from the chart?"
      ],
      "metadata": {
        "id": "YPEH6qLeZNRQ"
      }
    },
    {
      "cell_type": "markdown",
      "source": [
        "When you read the chart, you can see that most of the data is the range between 0.5 and -0.5 which basically means that correlation between different columns of this dataset is very little. This means that any changes to any one of the factor doesn't have a vast affect on any other variable in the same dataset."
      ],
      "metadata": {
        "id": "bfSqtnDqZNRR"
      }
    },
    {
      "cell_type": "markdown",
      "source": [
        "#### Chart - 12 - Pair Plot"
      ],
      "metadata": {
        "id": "q29F0dvdveiT"
      }
    },
    {
      "cell_type": "code",
      "source": [
        "# Pair Plot visualization code\n",
        "pair_plot_columns = df[['price', 'minimum_nights', 'number_of_reviews', 'reviews_per_month', 'availability_365']]\n",
        "\n",
        "sns.pairplot(pair_plot_columns, height = 2)\n",
        "\n",
        "plt.show()"
      ],
      "metadata": {
        "id": "o58-TEIhveiU"
      },
      "execution_count": null,
      "outputs": []
    },
    {
      "cell_type": "markdown",
      "source": [
        "##### 1. Why did you pick the specific chart?"
      ],
      "metadata": {
        "id": "EXh0U9oCveiU"
      }
    },
    {
      "cell_type": "markdown",
      "source": [
        "Pair plots are best used to understand correlation between numerical variables of a dataset in a visual format. This pairplot shows how variables like price, minimum nights, number of reviews, average reviews, availablity are affected by each other"
      ],
      "metadata": {
        "id": "eMmPjTByveiU"
      }
    },
    {
      "cell_type": "markdown",
      "source": [
        "##### 2. What is/are the insight(s) found from the chart?"
      ],
      "metadata": {
        "id": "22aHeOlLveiV"
      }
    },
    {
      "cell_type": "markdown",
      "source": [
        "We can see that most of these graphs have little to correlation as the datapoints are scattered throughout the charts. We do see a little correlation in price vs number of reviews graph where the number of reviews decrease with increase in price and the same effect in the minimum nights spent vs number of reviews graph. This can be used as an input and help understand how number of reviews are affecting different parameters of bookings."
      ],
      "metadata": {
        "id": "uPQ8RGwHveiV"
      }
    },
    {
      "cell_type": "markdown",
      "source": [
        "## **5. Solution to Business Objective**"
      ],
      "metadata": {
        "id": "JcMwzZxoAimU"
      }
    },
    {
      "cell_type": "markdown",
      "source": [
        "#### What do you suggest the client to achieve Business Objective ?\n",
        "Explain Briefly."
      ],
      "metadata": {
        "id": "8G2x9gOozGDZ"
      }
    },
    {
      "cell_type": "markdown",
      "source": [
        "After understanding the dataset and how different variables are linked, my suggestions to the client would be:\n",
        "\n",
        "*   Change pricing strategies by including other factors like, number of reviews, host ratings, location.\n",
        "*   Conduct regular reviews as more than half of the listings have last reviews that are older than one year.\n",
        "*   Focus on getting more listings by incentivizing hosts in areas neighbourhood groups like Bronx to improve demand.\n",
        "*   Reward top performing hosts motivating other hosts to improve their reviews.\n",
        "\n",
        "These ideas can help improve customer booking experience, improve host initiatives and overall profitability."
      ],
      "metadata": {
        "id": "pASKb0qOza21"
      }
    },
    {
      "cell_type": "markdown",
      "source": [
        "# **Conclusion**"
      ],
      "metadata": {
        "id": "gCX9965dhzqZ"
      }
    },
    {
      "cell_type": "markdown",
      "source": [
        "The dataset contains 48895 rows and 16 columns.\n",
        "\n",
        "There were no duplicate rows.\n",
        "\n",
        "There were null values in name and host name columns which were filled with \"unnamed listing\" and \"unknown host\".\n",
        "\n",
        "Null values in last_review and reviews_per_month were left as is because those values don't exist, considering there have been no reviews for those listings.\n",
        "\n",
        "All the numeric data in the dataset had very little correlation with each other indicating room for improvement in pricing and customer experience review strategies.\n",
        "\n"
      ],
      "metadata": {
        "id": "Fjb1IsQkh3yE"
      }
    },
    {
      "cell_type": "markdown",
      "source": [
        "### ***Hurrah! You have successfully completed your EDA Capstone Project !!!***"
      ],
      "metadata": {
        "id": "gIfDvo9L0UH2"
      }
    }
  ]
}